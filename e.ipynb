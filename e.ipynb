import re
reg=''
if re.match(reg,input()):
    print("yes")
else:
    print("no")